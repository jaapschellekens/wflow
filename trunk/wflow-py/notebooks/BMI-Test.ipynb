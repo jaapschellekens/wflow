{
 "cells": [
  {
   "cell_type": "markdown",
   "metadata": {},
   "source": [
    "Basic test of the wflow BMI interface"
   ]
  },
  {
   "cell_type": "code",
   "execution_count": 13,
   "metadata": {
    "collapsed": false
   },
   "outputs": [
    {
     "name": "stdout",
     "output_type": "stream",
     "text": [
      "Using matplotlib backend: Qt4Agg\n"
     ]
    }
   ],
   "source": [
    "import wflow.wflow_bmi as bmi\n",
    "import logging\n",
    "%matplotlib\n",
    "reload(bmi)\n",
    "%matplotlib inline \n",
    "import datetime"
   ]
  },
  {
   "cell_type": "code",
   "execution_count": 14,
   "metadata": {
    "collapsed": false
   },
   "outputs": [
    {
     "name": "stderr",
     "output_type": "stream",
     "text": [
      "2015-04-09 14:01:31,418 - wflow_sbm.ini - WARNING - Could not read sample id-map for timeseries: c:\\repos\\wflow\\examples\\wflow_rhine_sbm/staticmaps/area.map\n",
      "2015-04-09 14:01:31,418 - wflow_sbm.ini - WARNING - Could not read sample id-map for timeseries: c:\\repos\\wflow\\examples\\wflow_rhine_sbm/staticmaps/area.map\n",
      "WARNING:wflow_sbm.ini:Could not read sample id-map for timeseries: c:\\repos\\wflow\\examples\\wflow_rhine_sbm/staticmaps/area.map\n",
      "2015-04-09 14:01:31,433 - wflow_sbm.ini - WARNING - tbl file not found (c:\\repos\\wflow\\examples\\wflow_rhine_sbm/intbl/RunoffGeneratingGWPerc.tbl) returning default value: 0.1\n",
      "2015-04-09 14:01:31,433 - wflow_sbm.ini - WARNING - tbl file not found (c:\\repos\\wflow\\examples\\wflow_rhine_sbm/intbl/RunoffGeneratingGWPerc.tbl) returning default value: 0.1\n",
      "WARNING:wflow_sbm.ini:tbl file not found (c:\\repos\\wflow\\examples\\wflow_rhine_sbm/intbl/RunoffGeneratingGWPerc.tbl) returning default value: 0.1\n",
      "2015-04-09 14:01:31,456 - wflow_sbm.ini - WARNING - tbl file not found (c:\\repos\\wflow\\examples\\wflow_rhine_sbm/intbl/rootdistpar.tbl) returning default value: -8000\n",
      "2015-04-09 14:01:31,456 - wflow_sbm.ini - WARNING - tbl file not found (c:\\repos\\wflow\\examples\\wflow_rhine_sbm/intbl/rootdistpar.tbl) returning default value: -8000\n",
      "WARNING:wflow_sbm.ini:tbl file not found (c:\\repos\\wflow\\examples\\wflow_rhine_sbm/intbl/rootdistpar.tbl) returning default value: -8000\n",
      "2015-04-09 14:01:31,463 - wflow_sbm.ini - WARNING - tbl file not found (c:\\repos\\wflow\\examples\\wflow_rhine_sbm/intbl/CapScale.tbl) returning default value: 100.0\n",
      "2015-04-09 14:01:31,463 - wflow_sbm.ini - WARNING - tbl file not found (c:\\repos\\wflow\\examples\\wflow_rhine_sbm/intbl/CapScale.tbl) returning default value: 100.0\n",
      "WARNING:wflow_sbm.ini:tbl file not found (c:\\repos\\wflow\\examples\\wflow_rhine_sbm/intbl/CapScale.tbl) returning default value: 100.0\n",
      "2015-04-09 14:01:31,466 - wflow_sbm.ini - WARNING - tbl file not found (c:\\repos\\wflow\\examples\\wflow_rhine_sbm/intbl/K4.tbl) returning default value: 0.02307\n",
      "2015-04-09 14:01:31,466 - wflow_sbm.ini - WARNING - tbl file not found (c:\\repos\\wflow\\examples\\wflow_rhine_sbm/intbl/K4.tbl) returning default value: 0.02307\n",
      "WARNING:wflow_sbm.ini:tbl file not found (c:\\repos\\wflow\\examples\\wflow_rhine_sbm/intbl/K4.tbl) returning default value: 0.02307\n",
      "2015-04-09 14:01:31,477 - wflow_sbm.ini - WARNING - tbl file not found (c:\\repos\\wflow\\examples\\wflow_rhine_sbm/intbl/MaxPercolation.tbl) returning default value: 0.0\n",
      "2015-04-09 14:01:31,477 - wflow_sbm.ini - WARNING - tbl file not found (c:\\repos\\wflow\\examples\\wflow_rhine_sbm/intbl/MaxPercolation.tbl) returning default value: 0.0\n",
      "WARNING:wflow_sbm.ini:tbl file not found (c:\\repos\\wflow\\examples\\wflow_rhine_sbm/intbl/MaxPercolation.tbl) returning default value: 0.0\n",
      "2015-04-09 14:01:31,513 - wflow_sbm.ini - WARNING - tbl file not found (c:\\repos\\wflow\\examples\\wflow_rhine_sbm/intbl/MporeFrac.tbl) returning default value: 0.0\n",
      "2015-04-09 14:01:31,513 - wflow_sbm.ini - WARNING - tbl file not found (c:\\repos\\wflow\\examples\\wflow_rhine_sbm/intbl/MporeFrac.tbl) returning default value: 0.0\n",
      "WARNING:wflow_sbm.ini:tbl file not found (c:\\repos\\wflow\\examples\\wflow_rhine_sbm/intbl/MporeFrac.tbl) returning default value: 0.0\n",
      "2015-04-09 14:01:31,530 - wflow_sbm.ini - WARNING - tbl file not found (c:\\repos\\wflow\\examples\\wflow_rhine_sbm/intbl/WaterFrac.tbl) returning default value: 0.0\n",
      "2015-04-09 14:01:31,530 - wflow_sbm.ini - WARNING - tbl file not found (c:\\repos\\wflow\\examples\\wflow_rhine_sbm/intbl/WaterFrac.tbl) returning default value: 0.0\n",
      "WARNING:wflow_sbm.ini:tbl file not found (c:\\repos\\wflow\\examples\\wflow_rhine_sbm/intbl/WaterFrac.tbl) returning default value: 0.0\n",
      "2015-04-09 14:01:31,533 - wflow_sbm.ini - WARNING - tbl file not found (c:\\repos\\wflow\\examples\\wflow_rhine_sbm/intbl/et_reftopot.tbl) returning default value: 1.0\n",
      "2015-04-09 14:01:31,533 - wflow_sbm.ini - WARNING - tbl file not found (c:\\repos\\wflow\\examples\\wflow_rhine_sbm/intbl/et_reftopot.tbl) returning default value: 1.0\n",
      "WARNING:wflow_sbm.ini:tbl file not found (c:\\repos\\wflow\\examples\\wflow_rhine_sbm/intbl/et_reftopot.tbl) returning default value: 1.0\n"
     ]
    }
   ],
   "source": [
    "# This is the LAnd Atmophere (LA) model\n",
    "LA_model = bmi.wflowbmi_csdms()\n",
    "LA_model.initialize('../../examples/wflow_rhine_sbm/wflow_sbm.ini',loglevel=logging.WARN)\n",
    "\n",
    "# This is the routing (LA) model\n",
    "RT_model = bmi.wflowbmi_csdms()\n",
    "RT_model.initialize('../../examples/wflow_rhine_sbm/wflow_routing.ini',loglevel=logging.WARN)"
   ]
  },
  {
   "cell_type": "code",
   "execution_count": 15,
   "metadata": {
    "collapsed": false
   },
   "outputs": [],
   "source": [
    "t_end = RT_model.get_end_time()\n",
    "t_start = RT_model.get_start_time()\n",
    "t = RT_model.get_current_time()"
   ]
  },
  {
   "cell_type": "code",
   "execution_count": 16,
   "metadata": {
    "collapsed": false
   },
   "outputs": [
    {
     "data": {
      "text/plain": [
       "27.0"
      ]
     },
     "execution_count": 16,
     "metadata": {},
     "output_type": "execute_result"
    }
   ],
   "source": [
    "\n",
    "(t_end  - t_start)/(86400)\n"
   ]
  },
  {
   "cell_type": "code",
   "execution_count": 17,
   "metadata": {
    "collapsed": false
   },
   "outputs": [
    {
     "name": "stderr",
     "output_type": "stream",
     "text": [
      "2015-04-09 14:01:36,351 - wflow_sbm.ini - WARNING - Climatology data (c:\\repos\\wflow\\examples\\wflow_rhine_sbm\\monthlyclim\\ROOT0000.001) for timestep not present, returning 75.0\n",
      "2015-04-09 14:01:36,351 - wflow_sbm.ini - WARNING - Climatology data (c:\\repos\\wflow\\examples\\wflow_rhine_sbm\\monthlyclim\\ROOT0000.001) for timestep not present, returning 75.0\n",
      "WARNING:wflow_sbm.ini:Climatology data (c:\\repos\\wflow\\examples\\wflow_rhine_sbm\\monthlyclim\\ROOT0000.001) for timestep not present, returning 75.0\n",
      "2015-04-09 14:01:36,563 - wflow_sbm.ini - WARNING - Climatology data (c:\\repos\\wflow\\examples\\wflow_rhine_sbm\\monthlyclim\\ROOT0000.002) for timestep not present, returning 75.0\n",
      "2015-04-09 14:01:36,563 - wflow_sbm.ini - WARNING - Climatology data (c:\\repos\\wflow\\examples\\wflow_rhine_sbm\\monthlyclim\\ROOT0000.002) for timestep not present, returning 75.0\n",
      "WARNING:wflow_sbm.ini:Climatology data (c:\\repos\\wflow\\examples\\wflow_rhine_sbm\\monthlyclim\\ROOT0000.002) for timestep not present, returning 75.0\n"
     ]
    },
    {
     "name": "stdout",
     "output_type": "stream",
     "text": [
      "1995-02-01 00:00:00\n",
      "1995-02-02 00:00:00"
     ]
    },
    {
     "name": "stderr",
     "output_type": "stream",
     "text": [
      "2015-04-09 14:01:36,746 - wflow_sbm.ini - WARNING - Climatology data (c:\\repos\\wflow\\examples\\wflow_rhine_sbm\\monthlyclim\\ROOT0000.002) for timestep not present, returning 75.0\n",
      "2015-04-09 14:01:36,746 - wflow_sbm.ini - WARNING - Climatology data (c:\\repos\\wflow\\examples\\wflow_rhine_sbm\\monthlyclim\\ROOT0000.002) for timestep not present, returning 75.0\n",
      "WARNING:wflow_sbm.ini:Climatology data (c:\\repos\\wflow\\examples\\wflow_rhine_sbm\\monthlyclim\\ROOT0000.002) for timestep not present, returning 75.0\n"
     ]
    },
    {
     "name": "stdout",
     "output_type": "stream",
     "text": [
      "\n",
      "1995-02-03 00:00:00"
     ]
    },
    {
     "name": "stderr",
     "output_type": "stream",
     "text": [
      "2015-04-09 14:01:36,931 - wflow_sbm.ini - WARNING - Climatology data (c:\\repos\\wflow\\examples\\wflow_rhine_sbm\\monthlyclim\\ROOT0000.002) for timestep not present, returning 75.0\n",
      "2015-04-09 14:01:36,931 - wflow_sbm.ini - WARNING - Climatology data (c:\\repos\\wflow\\examples\\wflow_rhine_sbm\\monthlyclim\\ROOT0000.002) for timestep not present, returning 75.0\n",
      "WARNING:wflow_sbm.ini:Climatology data (c:\\repos\\wflow\\examples\\wflow_rhine_sbm\\monthlyclim\\ROOT0000.002) for timestep not present, returning 75.0\n"
     ]
    },
    {
     "name": "stdout",
     "output_type": "stream",
     "text": [
      "\n",
      "1995-02-04 00:00:00"
     ]
    },
    {
     "name": "stderr",
     "output_type": "stream",
     "text": [
      "2015-04-09 14:01:37,111 - wflow_sbm.ini - WARNING - Climatology data (c:\\repos\\wflow\\examples\\wflow_rhine_sbm\\monthlyclim\\ROOT0000.002) for timestep not present, returning 75.0\n",
      "2015-04-09 14:01:37,111 - wflow_sbm.ini - WARNING - Climatology data (c:\\repos\\wflow\\examples\\wflow_rhine_sbm\\monthlyclim\\ROOT0000.002) for timestep not present, returning 75.0\n",
      "WARNING:wflow_sbm.ini:Climatology data (c:\\repos\\wflow\\examples\\wflow_rhine_sbm\\monthlyclim\\ROOT0000.002) for timestep not present, returning 75.0\n"
     ]
    },
    {
     "name": "stdout",
     "output_type": "stream",
     "text": [
      "\n",
      "1995-02-05 00:00:00"
     ]
    },
    {
     "name": "stderr",
     "output_type": "stream",
     "text": [
      "2015-04-09 14:01:37,282 - wflow_sbm.ini - WARNING - Climatology data (c:\\repos\\wflow\\examples\\wflow_rhine_sbm\\monthlyclim\\ROOT0000.002) for timestep not present, returning 75.0\n",
      "2015-04-09 14:01:37,282 - wflow_sbm.ini - WARNING - Climatology data (c:\\repos\\wflow\\examples\\wflow_rhine_sbm\\monthlyclim\\ROOT0000.002) for timestep not present, returning 75.0\n",
      "WARNING:wflow_sbm.ini:Climatology data (c:\\repos\\wflow\\examples\\wflow_rhine_sbm\\monthlyclim\\ROOT0000.002) for timestep not present, returning 75.0\n"
     ]
    },
    {
     "name": "stdout",
     "output_type": "stream",
     "text": [
      "\n",
      "1995-02-06 00:00:00"
     ]
    },
    {
     "name": "stderr",
     "output_type": "stream",
     "text": [
      "2015-04-09 14:01:37,447 - wflow_sbm.ini - WARNING - Climatology data (c:\\repos\\wflow\\examples\\wflow_rhine_sbm\\monthlyclim\\ROOT0000.002) for timestep not present, returning 75.0\n",
      "2015-04-09 14:01:37,447 - wflow_sbm.ini - WARNING - Climatology data (c:\\repos\\wflow\\examples\\wflow_rhine_sbm\\monthlyclim\\ROOT0000.002) for timestep not present, returning 75.0\n",
      "WARNING:wflow_sbm.ini:Climatology data (c:\\repos\\wflow\\examples\\wflow_rhine_sbm\\monthlyclim\\ROOT0000.002) for timestep not present, returning 75.0\n"
     ]
    },
    {
     "name": "stdout",
     "output_type": "stream",
     "text": [
      "\n",
      "1995-02-07 00:00:00"
     ]
    },
    {
     "name": "stderr",
     "output_type": "stream",
     "text": [
      "2015-04-09 14:01:37,612 - wflow_sbm.ini - WARNING - Climatology data (c:\\repos\\wflow\\examples\\wflow_rhine_sbm\\monthlyclim\\ROOT0000.002) for timestep not present, returning 75.0\n",
      "2015-04-09 14:01:37,612 - wflow_sbm.ini - WARNING - Climatology data (c:\\repos\\wflow\\examples\\wflow_rhine_sbm\\monthlyclim\\ROOT0000.002) for timestep not present, returning 75.0\n",
      "WARNING:wflow_sbm.ini:Climatology data (c:\\repos\\wflow\\examples\\wflow_rhine_sbm\\monthlyclim\\ROOT0000.002) for timestep not present, returning 75.0\n"
     ]
    },
    {
     "name": "stdout",
     "output_type": "stream",
     "text": [
      "\n",
      "1995-02-08 00:00:00"
     ]
    },
    {
     "name": "stderr",
     "output_type": "stream",
     "text": [
      "2015-04-09 14:01:37,780 - wflow_sbm.ini - WARNING - Climatology data (c:\\repos\\wflow\\examples\\wflow_rhine_sbm\\monthlyclim\\ROOT0000.002) for timestep not present, returning 75.0\n",
      "2015-04-09 14:01:37,780 - wflow_sbm.ini - WARNING - Climatology data (c:\\repos\\wflow\\examples\\wflow_rhine_sbm\\monthlyclim\\ROOT0000.002) for timestep not present, returning 75.0\n",
      "WARNING:wflow_sbm.ini:Climatology data (c:\\repos\\wflow\\examples\\wflow_rhine_sbm\\monthlyclim\\ROOT0000.002) for timestep not present, returning 75.0\n"
     ]
    },
    {
     "name": "stdout",
     "output_type": "stream",
     "text": [
      "\n",
      "1995-02-09 00:00:00"
     ]
    },
    {
     "name": "stderr",
     "output_type": "stream",
     "text": [
      "2015-04-09 14:01:37,950 - wflow_sbm.ini - WARNING - Climatology data (c:\\repos\\wflow\\examples\\wflow_rhine_sbm\\monthlyclim\\ROOT0000.002) for timestep not present, returning 75.0\n",
      "2015-04-09 14:01:37,950 - wflow_sbm.ini - WARNING - Climatology data (c:\\repos\\wflow\\examples\\wflow_rhine_sbm\\monthlyclim\\ROOT0000.002) for timestep not present, returning 75.0\n",
      "WARNING:wflow_sbm.ini:Climatology data (c:\\repos\\wflow\\examples\\wflow_rhine_sbm\\monthlyclim\\ROOT0000.002) for timestep not present, returning 75.0\n"
     ]
    },
    {
     "name": "stdout",
     "output_type": "stream",
     "text": [
      "\n",
      "1995-02-10 00:00:00"
     ]
    },
    {
     "name": "stderr",
     "output_type": "stream",
     "text": [
      "2015-04-09 14:01:38,111 - wflow_sbm.ini - WARNING - Climatology data (c:\\repos\\wflow\\examples\\wflow_rhine_sbm\\monthlyclim\\ROOT0000.002) for timestep not present, returning 75.0\n",
      "2015-04-09 14:01:38,111 - wflow_sbm.ini - WARNING - Climatology data (c:\\repos\\wflow\\examples\\wflow_rhine_sbm\\monthlyclim\\ROOT0000.002) for timestep not present, returning 75.0\n",
      "WARNING:wflow_sbm.ini:Climatology data (c:\\repos\\wflow\\examples\\wflow_rhine_sbm\\monthlyclim\\ROOT0000.002) for timestep not present, returning 75.0\n"
     ]
    },
    {
     "name": "stdout",
     "output_type": "stream",
     "text": [
      "\n",
      "1995-02-11 00:00:00"
     ]
    },
    {
     "name": "stderr",
     "output_type": "stream",
     "text": [
      "2015-04-09 14:01:38,270 - wflow_sbm.ini - WARNING - Climatology data (c:\\repos\\wflow\\examples\\wflow_rhine_sbm\\monthlyclim\\ROOT0000.002) for timestep not present, returning 75.0\n",
      "2015-04-09 14:01:38,270 - wflow_sbm.ini - WARNING - Climatology data (c:\\repos\\wflow\\examples\\wflow_rhine_sbm\\monthlyclim\\ROOT0000.002) for timestep not present, returning 75.0\n",
      "WARNING:wflow_sbm.ini:Climatology data (c:\\repos\\wflow\\examples\\wflow_rhine_sbm\\monthlyclim\\ROOT0000.002) for timestep not present, returning 75.0\n"
     ]
    },
    {
     "name": "stdout",
     "output_type": "stream",
     "text": [
      "\n",
      "1995-02-12 00:00:00"
     ]
    },
    {
     "name": "stderr",
     "output_type": "stream",
     "text": [
      "2015-04-09 14:01:38,427 - wflow_sbm.ini - WARNING - Climatology data (c:\\repos\\wflow\\examples\\wflow_rhine_sbm\\monthlyclim\\ROOT0000.002) for timestep not present, returning 75.0\n",
      "2015-04-09 14:01:38,427 - wflow_sbm.ini - WARNING - Climatology data (c:\\repos\\wflow\\examples\\wflow_rhine_sbm\\monthlyclim\\ROOT0000.002) for timestep not present, returning 75.0\n",
      "WARNING:wflow_sbm.ini:Climatology data (c:\\repos\\wflow\\examples\\wflow_rhine_sbm\\monthlyclim\\ROOT0000.002) for timestep not present, returning 75.0\n"
     ]
    },
    {
     "name": "stdout",
     "output_type": "stream",
     "text": [
      "\n",
      "1995-02-13 00:00:00"
     ]
    },
    {
     "name": "stderr",
     "output_type": "stream",
     "text": [
      "2015-04-09 14:01:38,585 - wflow_sbm.ini - WARNING - Climatology data (c:\\repos\\wflow\\examples\\wflow_rhine_sbm\\monthlyclim\\ROOT0000.002) for timestep not present, returning 75.0\n",
      "2015-04-09 14:01:38,585 - wflow_sbm.ini - WARNING - Climatology data (c:\\repos\\wflow\\examples\\wflow_rhine_sbm\\monthlyclim\\ROOT0000.002) for timestep not present, returning 75.0\n",
      "WARNING:wflow_sbm.ini:Climatology data (c:\\repos\\wflow\\examples\\wflow_rhine_sbm\\monthlyclim\\ROOT0000.002) for timestep not present, returning 75.0\n"
     ]
    },
    {
     "name": "stdout",
     "output_type": "stream",
     "text": [
      "\n",
      "1995-02-14 00:00:00"
     ]
    },
    {
     "name": "stderr",
     "output_type": "stream",
     "text": [
      "2015-04-09 14:01:38,740 - wflow_sbm.ini - WARNING - Climatology data (c:\\repos\\wflow\\examples\\wflow_rhine_sbm\\monthlyclim\\ROOT0000.002) for timestep not present, returning 75.0\n",
      "2015-04-09 14:01:38,740 - wflow_sbm.ini - WARNING - Climatology data (c:\\repos\\wflow\\examples\\wflow_rhine_sbm\\monthlyclim\\ROOT0000.002) for timestep not present, returning 75.0\n",
      "WARNING:wflow_sbm.ini:Climatology data (c:\\repos\\wflow\\examples\\wflow_rhine_sbm\\monthlyclim\\ROOT0000.002) for timestep not present, returning 75.0\n"
     ]
    },
    {
     "name": "stdout",
     "output_type": "stream",
     "text": [
      "\n",
      "1995-02-15 00:00:00"
     ]
    },
    {
     "name": "stderr",
     "output_type": "stream",
     "text": [
      "2015-04-09 14:01:38,907 - wflow_sbm.ini - WARNING - Climatology data (c:\\repos\\wflow\\examples\\wflow_rhine_sbm\\monthlyclim\\ROOT0000.002) for timestep not present, returning 75.0\n",
      "2015-04-09 14:01:38,907 - wflow_sbm.ini - WARNING - Climatology data (c:\\repos\\wflow\\examples\\wflow_rhine_sbm\\monthlyclim\\ROOT0000.002) for timestep not present, returning 75.0\n",
      "WARNING:wflow_sbm.ini:Climatology data (c:\\repos\\wflow\\examples\\wflow_rhine_sbm\\monthlyclim\\ROOT0000.002) for timestep not present, returning 75.0\n"
     ]
    },
    {
     "name": "stdout",
     "output_type": "stream",
     "text": [
      "\n",
      "1995-02-16 00:00:00"
     ]
    },
    {
     "name": "stderr",
     "output_type": "stream",
     "text": [
      "2015-04-09 14:01:39,065 - wflow_sbm.ini - WARNING - Climatology data (c:\\repos\\wflow\\examples\\wflow_rhine_sbm\\monthlyclim\\ROOT0000.002) for timestep not present, returning 75.0\n",
      "2015-04-09 14:01:39,065 - wflow_sbm.ini - WARNING - Climatology data (c:\\repos\\wflow\\examples\\wflow_rhine_sbm\\monthlyclim\\ROOT0000.002) for timestep not present, returning 75.0\n",
      "WARNING:wflow_sbm.ini:Climatology data (c:\\repos\\wflow\\examples\\wflow_rhine_sbm\\monthlyclim\\ROOT0000.002) for timestep not present, returning 75.0\n"
     ]
    },
    {
     "name": "stdout",
     "output_type": "stream",
     "text": [
      "\n",
      "1995-02-17 00:00:00"
     ]
    },
    {
     "name": "stderr",
     "output_type": "stream",
     "text": [
      "2015-04-09 14:01:39,226 - wflow_sbm.ini - WARNING - Climatology data (c:\\repos\\wflow\\examples\\wflow_rhine_sbm\\monthlyclim\\ROOT0000.002) for timestep not present, returning 75.0\n",
      "2015-04-09 14:01:39,226 - wflow_sbm.ini - WARNING - Climatology data (c:\\repos\\wflow\\examples\\wflow_rhine_sbm\\monthlyclim\\ROOT0000.002) for timestep not present, returning 75.0\n",
      "WARNING:wflow_sbm.ini:Climatology data (c:\\repos\\wflow\\examples\\wflow_rhine_sbm\\monthlyclim\\ROOT0000.002) for timestep not present, returning 75.0\n"
     ]
    },
    {
     "name": "stdout",
     "output_type": "stream",
     "text": [
      "\n",
      "1995-02-18 00:00:00"
     ]
    },
    {
     "name": "stderr",
     "output_type": "stream",
     "text": [
      "2015-04-09 14:01:39,392 - wflow_sbm.ini - WARNING - Climatology data (c:\\repos\\wflow\\examples\\wflow_rhine_sbm\\monthlyclim\\ROOT0000.002) for timestep not present, returning 75.0\n",
      "2015-04-09 14:01:39,392 - wflow_sbm.ini - WARNING - Climatology data (c:\\repos\\wflow\\examples\\wflow_rhine_sbm\\monthlyclim\\ROOT0000.002) for timestep not present, returning 75.0\n",
      "WARNING:wflow_sbm.ini:Climatology data (c:\\repos\\wflow\\examples\\wflow_rhine_sbm\\monthlyclim\\ROOT0000.002) for timestep not present, returning 75.0\n"
     ]
    },
    {
     "name": "stdout",
     "output_type": "stream",
     "text": [
      "\n",
      "1995-02-19 00:00:00"
     ]
    },
    {
     "name": "stderr",
     "output_type": "stream",
     "text": [
      "2015-04-09 14:01:39,549 - wflow_sbm.ini - WARNING - Climatology data (c:\\repos\\wflow\\examples\\wflow_rhine_sbm\\monthlyclim\\ROOT0000.002) for timestep not present, returning 75.0\n",
      "2015-04-09 14:01:39,549 - wflow_sbm.ini - WARNING - Climatology data (c:\\repos\\wflow\\examples\\wflow_rhine_sbm\\monthlyclim\\ROOT0000.002) for timestep not present, returning 75.0\n",
      "WARNING:wflow_sbm.ini:Climatology data (c:\\repos\\wflow\\examples\\wflow_rhine_sbm\\monthlyclim\\ROOT0000.002) for timestep not present, returning 75.0\n"
     ]
    },
    {
     "name": "stdout",
     "output_type": "stream",
     "text": [
      "\n",
      "1995-02-20 00:00:00"
     ]
    },
    {
     "name": "stderr",
     "output_type": "stream",
     "text": [
      "2015-04-09 14:01:39,713 - wflow_sbm.ini - WARNING - Climatology data (c:\\repos\\wflow\\examples\\wflow_rhine_sbm\\monthlyclim\\ROOT0000.002) for timestep not present, returning 75.0\n",
      "2015-04-09 14:01:39,713 - wflow_sbm.ini - WARNING - Climatology data (c:\\repos\\wflow\\examples\\wflow_rhine_sbm\\monthlyclim\\ROOT0000.002) for timestep not present, returning 75.0\n",
      "WARNING:wflow_sbm.ini:Climatology data (c:\\repos\\wflow\\examples\\wflow_rhine_sbm\\monthlyclim\\ROOT0000.002) for timestep not present, returning 75.0\n"
     ]
    },
    {
     "name": "stdout",
     "output_type": "stream",
     "text": [
      "\n",
      "1995-02-21 00:00:00"
     ]
    },
    {
     "name": "stderr",
     "output_type": "stream",
     "text": [
      "2015-04-09 14:01:39,921 - wflow_sbm.ini - WARNING - Climatology data (c:\\repos\\wflow\\examples\\wflow_rhine_sbm\\monthlyclim\\ROOT0000.002) for timestep not present, returning 75.0\n",
      "2015-04-09 14:01:39,921 - wflow_sbm.ini - WARNING - Climatology data (c:\\repos\\wflow\\examples\\wflow_rhine_sbm\\monthlyclim\\ROOT0000.002) for timestep not present, returning 75.0\n",
      "WARNING:wflow_sbm.ini:Climatology data (c:\\repos\\wflow\\examples\\wflow_rhine_sbm\\monthlyclim\\ROOT0000.002) for timestep not present, returning 75.0\n"
     ]
    },
    {
     "name": "stdout",
     "output_type": "stream",
     "text": [
      "\n",
      "1995-02-22 00:00:00"
     ]
    },
    {
     "name": "stderr",
     "output_type": "stream",
     "text": [
      "2015-04-09 14:01:40,079 - wflow_sbm.ini - WARNING - Climatology data (c:\\repos\\wflow\\examples\\wflow_rhine_sbm\\monthlyclim\\ROOT0000.002) for timestep not present, returning 75.0\n",
      "2015-04-09 14:01:40,079 - wflow_sbm.ini - WARNING - Climatology data (c:\\repos\\wflow\\examples\\wflow_rhine_sbm\\monthlyclim\\ROOT0000.002) for timestep not present, returning 75.0\n",
      "WARNING:wflow_sbm.ini:Climatology data (c:\\repos\\wflow\\examples\\wflow_rhine_sbm\\monthlyclim\\ROOT0000.002) for timestep not present, returning 75.0\n"
     ]
    },
    {
     "name": "stdout",
     "output_type": "stream",
     "text": [
      "\n",
      "1995-02-23 00:00:00"
     ]
    },
    {
     "name": "stderr",
     "output_type": "stream",
     "text": [
      "2015-04-09 14:01:40,243 - wflow_sbm.ini - WARNING - Climatology data (c:\\repos\\wflow\\examples\\wflow_rhine_sbm\\monthlyclim\\ROOT0000.002) for timestep not present, returning 75.0\n",
      "2015-04-09 14:01:40,243 - wflow_sbm.ini - WARNING - Climatology data (c:\\repos\\wflow\\examples\\wflow_rhine_sbm\\monthlyclim\\ROOT0000.002) for timestep not present, returning 75.0\n",
      "WARNING:wflow_sbm.ini:Climatology data (c:\\repos\\wflow\\examples\\wflow_rhine_sbm\\monthlyclim\\ROOT0000.002) for timestep not present, returning 75.0\n"
     ]
    },
    {
     "name": "stdout",
     "output_type": "stream",
     "text": [
      "\n",
      "1995-02-24 00:00:00"
     ]
    },
    {
     "name": "stderr",
     "output_type": "stream",
     "text": [
      "2015-04-09 14:01:40,414 - wflow_sbm.ini - WARNING - Climatology data (c:\\repos\\wflow\\examples\\wflow_rhine_sbm\\monthlyclim\\ROOT0000.002) for timestep not present, returning 75.0\n",
      "2015-04-09 14:01:40,414 - wflow_sbm.ini - WARNING - Climatology data (c:\\repos\\wflow\\examples\\wflow_rhine_sbm\\monthlyclim\\ROOT0000.002) for timestep not present, returning 75.0\n",
      "WARNING:wflow_sbm.ini:Climatology data (c:\\repos\\wflow\\examples\\wflow_rhine_sbm\\monthlyclim\\ROOT0000.002) for timestep not present, returning 75.0\n"
     ]
    },
    {
     "name": "stdout",
     "output_type": "stream",
     "text": [
      "\n",
      "1995-02-25 00:00:00"
     ]
    },
    {
     "name": "stderr",
     "output_type": "stream",
     "text": [
      "2015-04-09 14:01:40,585 - wflow_sbm.ini - WARNING - Climatology data (c:\\repos\\wflow\\examples\\wflow_rhine_sbm\\monthlyclim\\ROOT0000.002) for timestep not present, returning 75.0\n",
      "2015-04-09 14:01:40,585 - wflow_sbm.ini - WARNING - Climatology data (c:\\repos\\wflow\\examples\\wflow_rhine_sbm\\monthlyclim\\ROOT0000.002) for timestep not present, returning 75.0\n",
      "WARNING:wflow_sbm.ini:Climatology data (c:\\repos\\wflow\\examples\\wflow_rhine_sbm\\monthlyclim\\ROOT0000.002) for timestep not present, returning 75.0\n"
     ]
    },
    {
     "name": "stdout",
     "output_type": "stream",
     "text": [
      "\n",
      "1995-02-26 00:00:00"
     ]
    },
    {
     "name": "stderr",
     "output_type": "stream",
     "text": [
      "2015-04-09 14:01:40,762 - wflow_sbm.ini - WARNING - Climatology data (c:\\repos\\wflow\\examples\\wflow_rhine_sbm\\monthlyclim\\ROOT0000.002) for timestep not present, returning 75.0\n",
      "2015-04-09 14:01:40,762 - wflow_sbm.ini - WARNING - Climatology data (c:\\repos\\wflow\\examples\\wflow_rhine_sbm\\monthlyclim\\ROOT0000.002) for timestep not present, returning 75.0\n",
      "WARNING:wflow_sbm.ini:Climatology data (c:\\repos\\wflow\\examples\\wflow_rhine_sbm\\monthlyclim\\ROOT0000.002) for timestep not present, returning 75.0\n"
     ]
    },
    {
     "name": "stdout",
     "output_type": "stream",
     "text": [
      "\n",
      "1995-02-27 00:00:00\n"
     ]
    }
   ],
   "source": [
    "t_end = RT_model.get_end_time()\n",
    "t = RT_model.get_start_time()\n",
    "\n",
    "\n",
    "\n",
    "\n",
    "while t < t_end:\n",
    "    LA_model.update()\n",
    "    # Now set the output from the LA model (specific Q) as input to the RT model\n",
    "    thevar = LA_model.get_value(\"InwaterMM\")\n",
    "    RT_model.set_value(\"IW\",thevar) # The IW is set in the wflow_routing.ini var as a forcing\n",
    "    RT_model.update()\n",
    "    t = RT_model.get_current_time()\n",
    "    \n",
    "    print datetime.datetime.fromtimestamp(t)"
   ]
  },
  {
   "cell_type": "code",
   "execution_count": 18,
   "metadata": {
    "collapsed": false
   },
   "outputs": [],
   "source": [
    "LA_model.finalize()\n",
    "RT_model.finalize()"
   ]
  },
  {
   "cell_type": "code",
   "execution_count": null,
   "metadata": {
    "collapsed": false
   },
   "outputs": [],
   "source": [
    "\n"
   ]
  },
  {
   "cell_type": "code",
   "execution_count": null,
   "metadata": {
    "collapsed": false
   },
   "outputs": [],
   "source": []
  }
 ],
 "metadata": {
  "kernelspec": {
   "display_name": "Python 2",
   "language": "python",
   "name": "python2"
  },
  "language_info": {
   "codemirror_mode": {
    "name": "ipython",
    "version": 2
   },
   "file_extension": ".py",
   "mimetype": "text/x-python",
   "name": "python",
   "nbconvert_exporter": "python",
   "pygments_lexer": "ipython2",
   "version": "2.7.8"
  }
 },
 "nbformat": 4,
 "nbformat_minor": 0
}
